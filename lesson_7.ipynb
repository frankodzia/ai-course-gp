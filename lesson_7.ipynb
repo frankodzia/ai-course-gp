{
  "nbformat": 4,
  "nbformat_minor": 0,
  "metadata": {
    "colab": {
      "provenance": [],
      "authorship_tag": "ABX9TyO1vEXWB7BF8KcCRfSv8m/f",
      "include_colab_link": true
    },
    "kernelspec": {
      "name": "python3",
      "display_name": "Python 3"
    },
    "language_info": {
      "name": "python"
    }
  },
  "cells": [
    {
      "cell_type": "markdown",
      "metadata": {
        "id": "view-in-github",
        "colab_type": "text"
      },
      "source": [
        "<a href=\"https://colab.research.google.com/github/frankodzia/ai-course-gp/blob/main/lesson_7.ipynb\" target=\"_parent\"><img src=\"https://colab.research.google.com/assets/colab-badge.svg\" alt=\"Open In Colab\"/></a>"
      ]
    },
    {
      "cell_type": "code",
      "source": [
        "import numpy as np\n",
        "\n",
        "\n",
        "array = np.array([1,2,3,4,5,6,7,8,9,10,11,12])\n",
        "\n",
        "print(\"Array:\")\n",
        "print(array)\n",
        "print(f\"Shape of array: {np.shape(array)}\")\n",
        "\n",
        "\n",
        "array2x6 = array.reshape(2, 6)\n",
        "\n",
        "print(\"Array 2x6:\")\n",
        "print(array2x6)\n",
        "print(f\"Shape of array: {array2x6.shape}\")\n"
      ],
      "metadata": {
        "colab": {
          "base_uri": "https://localhost:8080/"
        },
        "id": "91N0FckB_JMa",
        "outputId": "cc84daff-8cf9-4c61-deaa-3c292c93108f"
      },
      "execution_count": null,
      "outputs": [
        {
          "output_type": "stream",
          "name": "stdout",
          "text": [
            "Array:\n",
            "[ 1  2  3  4  5  6  7  8  9 10 11 12]\n",
            "Shape of array: (12,)\n",
            "Array 2x6:\n",
            "[[ 1  2  3  4  5  6]\n",
            " [ 7  8  9 10 11 12]]\n",
            "Shape of array: (2, 6)\n"
          ]
        }
      ]
    },
    {
      "cell_type": "code",
      "source": [
        "import numpy as np\n",
        "\n",
        "usorted1D = np.array([3, 6, 2, 4])\n",
        "sorted1D = np.sort(usorted1D)\n",
        "print(f\"Sorted 1D: {sorted1D}\")\n",
        "\n",
        "unsorted2D = np.array([\n",
        "    [7, 2, 9],\n",
        "    [4, 8, 1],\n",
        "    [5, 6, 3]\n",
        "])\n",
        "\n",
        "sorted2D_axis0 = np.sort(unsorted2D, axis=0)\n",
        "print(f\"Sorted array by axis 0:\\n{sorted2D_axis0}\\n\")\n",
        "\n",
        "sorted2D_axis1 = np.sort(unsorted2D, axis=1)\n",
        "print(f\"Sorted array by axis 1:\\n{sorted2D_axis1}\")\n",
        "\n",
        "players_data = np.array([\n",
        "(\"Faker\", \"T1\", 5),\n",
        "(\"TheShy\", \"Weibo Gaming\", 1),\n",
        "(\"Uzi\", \"Emerytowany\", 0),\n",
        "(\"Ruler\", \"JD Gaming\", 1),\n",
        "(\"Doinb\", \"Emerytowany\", 1),\n",
        "(\"Rekkles\", \"Los Ratones\", 1),\n",
        "(\"Caps\", \"G2 Esports\", 0)\n",
        "], dtype= [('Nick', 'U30'), ('Team', 'U30'), ('Worlds Title Count', 'i4')])\n",
        "\n",
        "print(\"sortowanie po liczbie tytułów: \")\n",
        "print(np.flip(players_data,order = 'Worlds Title Count'))\n"
      ],
      "metadata": {
        "colab": {
          "base_uri": "https://localhost:8080/"
        },
        "id": "Tk0Bys8FFNAM",
        "outputId": "5b6680d3-9029-4928-f632-87552b5d93e4"
      },
      "execution_count": null,
      "outputs": [
        {
          "output_type": "stream",
          "name": "stdout",
          "text": [
            "Sorted 1D: [2 3 4 6]\n",
            "Sorted array by axis 0:\n",
            "[[4 2 1]\n",
            " [5 6 3]\n",
            " [7 8 9]]\n",
            "\n",
            "Sorted array by axis 1:\n",
            "[[2 7 9]\n",
            " [1 4 8]\n",
            " [3 5 6]]\n"
          ]
        }
      ]
    },
    {
      "cell_type": "code",
      "source": [
        "#losowanie\n",
        "\n",
        "from numpy import random\n",
        "\n",
        "print(f\"Lsowanie 10 liczb z przedziału od 10 do 121\")\n",
        "\n",
        "for i in range(10):\n",
        "  print(random.randint(10,121))\n",
        "\n",
        "#losowanie z listy\n",
        "daty = [1241, 972, 1605, 1444, 1683]\n",
        "\n",
        "print(f\"Losowanie data ze zbioru: {random.choice(daty)}\")\n",
        "print(f\"Losowanie 3 daty ze zbioru: {random.choice(daty, 3)}\")\n",
        "\n",
        "random.shuffle(daty)\n",
        "print(f\"przetasowane daty: {daty}\")"
      ],
      "metadata": {
        "colab": {
          "base_uri": "https://localhost:8080/"
        },
        "id": "rTCSvCXUK0u_",
        "outputId": "729adf2e-a20d-4781-8c70-162cf425879d"
      },
      "execution_count": null,
      "outputs": [
        {
          "output_type": "stream",
          "name": "stdout",
          "text": [
            "Lsowanie 10 liczb z przedziału od 10 do 121\n",
            "63\n",
            "68\n",
            "12\n",
            "12\n",
            "40\n",
            "104\n",
            "112\n",
            "16\n",
            "91\n",
            "13\n",
            "Losowanie data ze zbioru: 1241\n",
            "Losowanie 3 daty ze zbioru: [ 972 1241 1683]\n",
            "przetasowane daty: [1241, 1444, 1683, 1605, 972]\n"
          ]
        }
      ]
    },
    {
      "cell_type": "code",
      "source": [
        "import numpy as np\n",
        "\n",
        "array1D = np.array([1,2,3,4,5])\n",
        "print(array1D[2:5])\n"
      ],
      "metadata": {
        "colab": {
          "base_uri": "https://localhost:8080/"
        },
        "id": "pRGDX4c-M126",
        "outputId": "917e6076-b474-4271-b1da-554ea9359e53"
      },
      "execution_count": null,
      "outputs": [
        {
          "output_type": "stream",
          "name": "stdout",
          "text": [
            "[3 4 5]\n"
          ]
        }
      ]
    },
    {
      "cell_type": "code",
      "source": [
        "#iterowanie po elementach\n",
        "\n",
        "import numpy as np\n",
        "\n",
        "array2D = np.array([[1,2,3,4,5], [6,7,8,9,10],[11,12,13,14,15]])\n",
        "\n",
        "for i in array2D:\n",
        "  for j in i:\n",
        "    print(j)\n",
        "\n",
        "    for i in np.nditer(array2D):\n",
        "      print(i)"
      ],
      "metadata": {
        "colab": {
          "base_uri": "https://localhost:8080/"
        },
        "id": "1OTJp29XPZ4H",
        "outputId": "36d8fbe0-79df-4b04-aeb2-057a0cda87e9",
        "collapsed": true
      },
      "execution_count": null,
      "outputs": [
        {
          "output_type": "stream",
          "name": "stdout",
          "text": [
            "1\n",
            "1\n",
            "2\n",
            "3\n",
            "4\n",
            "5\n",
            "6\n",
            "7\n",
            "8\n",
            "9\n",
            "10\n",
            "11\n",
            "12\n",
            "13\n",
            "14\n",
            "15\n",
            "2\n",
            "1\n",
            "2\n",
            "3\n",
            "4\n",
            "5\n",
            "6\n",
            "7\n",
            "8\n",
            "9\n",
            "10\n",
            "11\n",
            "12\n",
            "13\n",
            "14\n",
            "15\n",
            "3\n",
            "1\n",
            "2\n",
            "3\n",
            "4\n",
            "5\n",
            "6\n",
            "7\n",
            "8\n",
            "9\n",
            "10\n",
            "11\n",
            "12\n",
            "13\n",
            "14\n",
            "15\n",
            "4\n",
            "1\n",
            "2\n",
            "3\n",
            "4\n",
            "5\n",
            "6\n",
            "7\n",
            "8\n",
            "9\n",
            "10\n",
            "11\n",
            "12\n",
            "13\n",
            "14\n",
            "15\n",
            "5\n",
            "1\n",
            "2\n",
            "3\n",
            "4\n",
            "5\n",
            "6\n",
            "7\n",
            "8\n",
            "9\n",
            "10\n",
            "11\n",
            "12\n",
            "13\n",
            "14\n",
            "15\n",
            "6\n",
            "1\n",
            "2\n",
            "3\n",
            "4\n",
            "5\n",
            "6\n",
            "7\n",
            "8\n",
            "9\n",
            "10\n",
            "11\n",
            "12\n",
            "13\n",
            "14\n",
            "15\n",
            "7\n",
            "1\n",
            "2\n",
            "3\n",
            "4\n",
            "5\n",
            "6\n",
            "7\n",
            "8\n",
            "9\n",
            "10\n",
            "11\n",
            "12\n",
            "13\n",
            "14\n",
            "15\n",
            "8\n",
            "1\n",
            "2\n",
            "3\n",
            "4\n",
            "5\n",
            "6\n",
            "7\n",
            "8\n",
            "9\n",
            "10\n",
            "11\n",
            "12\n",
            "13\n",
            "14\n",
            "15\n",
            "9\n",
            "1\n",
            "2\n",
            "3\n",
            "4\n",
            "5\n",
            "6\n",
            "7\n",
            "8\n",
            "9\n",
            "10\n",
            "11\n",
            "12\n",
            "13\n",
            "14\n",
            "15\n",
            "10\n",
            "1\n",
            "2\n",
            "3\n",
            "4\n",
            "5\n",
            "6\n",
            "7\n",
            "8\n",
            "9\n",
            "10\n",
            "11\n",
            "12\n",
            "13\n",
            "14\n",
            "15\n",
            "11\n",
            "1\n",
            "2\n",
            "3\n",
            "4\n",
            "5\n",
            "6\n",
            "7\n",
            "8\n",
            "9\n",
            "10\n",
            "11\n",
            "12\n",
            "13\n",
            "14\n",
            "15\n",
            "12\n",
            "1\n",
            "2\n",
            "3\n",
            "4\n",
            "5\n",
            "6\n",
            "7\n",
            "8\n",
            "9\n",
            "10\n",
            "11\n",
            "12\n",
            "13\n",
            "14\n",
            "15\n",
            "13\n",
            "1\n",
            "2\n",
            "3\n",
            "4\n",
            "5\n",
            "6\n",
            "7\n",
            "8\n",
            "9\n",
            "10\n",
            "11\n",
            "12\n",
            "13\n",
            "14\n",
            "15\n",
            "14\n",
            "1\n",
            "2\n",
            "3\n",
            "4\n",
            "5\n",
            "6\n",
            "7\n",
            "8\n",
            "9\n",
            "10\n",
            "11\n",
            "12\n",
            "13\n",
            "14\n",
            "15\n",
            "15\n",
            "1\n",
            "2\n",
            "3\n",
            "4\n",
            "5\n",
            "6\n",
            "7\n",
            "8\n",
            "9\n",
            "10\n",
            "11\n",
            "12\n",
            "13\n",
            "14\n",
            "15\n"
          ]
        }
      ]
    },
    {
      "cell_type": "code",
      "source": [
        "import numpy as np\n",
        "\n",
        "array2D = np.array([[1,2,3,4,5], [6,7,8,9,10],[11,12,13,14,15]])\n",
        "\n",
        "index6 = np.where(array2D == 6)\n",
        "print(index6)"
      ],
      "metadata": {
        "colab": {
          "base_uri": "https://localhost:8080/"
        },
        "id": "wdO-mxN-QOR6",
        "outputId": "bdeb33a2-2677-4dbb-9923-037b0d54c945"
      },
      "execution_count": 1,
      "outputs": [
        {
          "output_type": "stream",
          "name": "stdout",
          "text": [
            "(array([1]), array([0]))\n"
          ]
        }
      ]
    }
  ]
}