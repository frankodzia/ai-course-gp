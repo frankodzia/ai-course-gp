{
  "nbformat": 4,
  "nbformat_minor": 0,
  "metadata": {
    "colab": {
      "provenance": [],
      "authorship_tag": "ABX9TyMKtNfiaUHCpzKm7vv2iNW3",
      "include_colab_link": true
    },
    "kernelspec": {
      "name": "python3",
      "display_name": "Python 3"
    },
    "language_info": {
      "name": "python"
    }
  },
  "cells": [
    {
      "cell_type": "markdown",
      "metadata": {
        "id": "view-in-github",
        "colab_type": "text"
      },
      "source": [
        "<a href=\"https://colab.research.google.com/github/frankodzia/ai-course-gp/blob/main/Untitled0.ipynb\" target=\"_parent\"><img src=\"https://colab.research.google.com/assets/colab-badge.svg\" alt=\"Open In Colab\"/></a>"
      ]
    },
    {
      "cell_type": "code",
      "execution_count": 9,
      "metadata": {
        "id": "4GbPNb0fOvBo"
      },
      "outputs": [],
      "source": []
    },
    {
      "cell_type": "code",
      "source": [
        "num = 3\n",
        "print(\"Hello\")"
      ],
      "metadata": {
        "colab": {
          "base_uri": "https://localhost:8080/"
        },
        "id": "UJWGFvGHPfby",
        "outputId": "d8d5e028-6171-46ec-90be-f10ab4895745"
      },
      "execution_count": 10,
      "outputs": [
        {
          "output_type": "stream",
          "name": "stdout",
          "text": [
            "Hello\n"
          ]
        }
      ]
    },
    {
      "cell_type": "code",
      "source": [
        "print(\"123\")\n",
        "print(num)"
      ],
      "metadata": {
        "colab": {
          "base_uri": "https://localhost:8080/"
        },
        "id": "MBHDeI4CS6rT",
        "outputId": "b81653bf-4b4d-44b3-a43c-ef66d8f21da4"
      },
      "execution_count": 11,
      "outputs": [
        {
          "output_type": "stream",
          "name": "stdout",
          "text": [
            "123\n",
            "3\n"
          ]
        }
      ]
    },
    {
      "cell_type": "code",
      "source": [
        "num = 10\n",
        "float_num = 5.50\n",
        "text = \"Hello\"\n",
        "bool_viariable = False\n",
        "print(text)\n",
        "\n",
        "print(f'liczba: {num}, średnia: {float_num}')\n",
        "print(type(num))"
      ],
      "metadata": {
        "colab": {
          "base_uri": "https://localhost:8080/"
        },
        "id": "Mcofl5iFckUC",
        "outputId": "2d24c15a-01af-4b55-ca7d-7dc37a81f33b"
      },
      "execution_count": 12,
      "outputs": [
        {
          "output_type": "stream",
          "name": "stdout",
          "text": [
            "Hello\n",
            "liczba: 10, średnia: 5.5\n",
            "<class 'int'>\n"
          ]
        }
      ]
    },
    {
      "cell_type": "code",
      "source": [
        "games = [\"Prison Architect\", \"Rimwordl\", \"Life is Strange\"]\n",
        "print(games);\n",
        "print(games[0]);\n",
        "\n",
        "games.append(\"The last of us\")\n",
        "print(games)"
      ],
      "metadata": {
        "colab": {
          "base_uri": "https://localhost:8080/"
        },
        "id": "RdZs78mrd5Mi",
        "outputId": "ef47bed6-5fce-4ab0-8d3e-7866497d1aba"
      },
      "execution_count": 15,
      "outputs": [
        {
          "output_type": "stream",
          "name": "stdout",
          "text": [
            "['Prison Architect', 'Rimwordl', 'Life is Strange']\n",
            "Prison Architect\n",
            "['Prison Architect', 'Rimwordl', 'Life is Strange', 'The last of us']\n"
          ]
        }
      ]
    },
    {
      "cell_type": "code",
      "source": [
        "print(int(\"010101\", 2))\n",
        "print(int(\"FF\",16))"
      ],
      "metadata": {
        "colab": {
          "base_uri": "https://localhost:8080/"
        },
        "id": "5fxtauY6fHGl",
        "outputId": "dfc010cb-0f50-46da-e200-bf729af7e6f4"
      },
      "execution_count": 19,
      "outputs": [
        {
          "output_type": "stream",
          "name": "stdout",
          "text": [
            "21\n",
            "255\n"
          ]
        }
      ]
    },
    {
      "cell_type": "code",
      "source": [
        "temperature = float(input(\"Podaj temperaturę: \"))\n",
        "\n",
        "if temperature < 20:\n",
        "  print(\"Podwyższam temperaturę\")\n",
        "elif temperature > 22:\n",
        "  print(\"Wyłączam się\")\n",
        "else:\n",
        "  print(\"Temperatura w normie\")"
      ],
      "metadata": {
        "colab": {
          "base_uri": "https://localhost:8080/"
        },
        "id": "rfzRTJDxfeJE",
        "outputId": "7313ac67-b02b-433c-9520-7064b46693d4"
      },
      "execution_count": 22,
      "outputs": [
        {
          "output_type": "stream",
          "name": "stdout",
          "text": [
            "Podaj temperaturę: 22\n",
            "Temperatura w normie\n"
          ]
        }
      ]
    },
    {
      "cell_type": "code",
      "source": [
        "for game in games:\n",
        "  print(game);\n",
        "\n",
        "\n",
        "for i in range(5):\n",
        "  print(i);\n",
        "\n",
        "for i  in range(-8,19,3):\n",
        "  print(i)\n",
        "\n",
        "def add(a,b):\n",
        "  print(a+b)"
      ],
      "metadata": {
        "colab": {
          "base_uri": "https://localhost:8080/"
        },
        "id": "iQInAoRDg_rV",
        "outputId": "d673bcfd-957d-4512-abaf-1b99ec376720"
      },
      "execution_count": 23,
      "outputs": [
        {
          "output_type": "stream",
          "name": "stdout",
          "text": [
            "Prison Architect\n",
            "Rimwordl\n",
            "Life is Strange\n",
            "The last of us\n",
            "0\n",
            "1\n",
            "2\n",
            "3\n",
            "4\n",
            "-8\n",
            "-5\n",
            "-2\n",
            "1\n",
            "4\n",
            "7\n",
            "10\n",
            "13\n",
            "16\n"
          ]
        }
      ]
    }
  ]
}